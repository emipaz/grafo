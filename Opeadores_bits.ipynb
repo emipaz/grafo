{
 "cells": [
  {
   "cell_type": "markdown",
   "id": "ea296033-aaf3-4110-ad4b-67bf0f2dbf86",
   "metadata": {},
   "source": [
    "# Operadores de bit"
   ]
  },
  {
   "cell_type": "markdown",
   "id": "2408e1fe-284a-497f-b0ce-82a226075ffb",
   "metadata": {},
   "source": [
    "## Ejemplo básico de operadores de bits"
   ]
  },
  {
   "cell_type": "markdown",
   "id": "221b15cf-4ac4-4eab-ad0a-4a54f6df5821",
   "metadata": {},
   "source": [
    "Supongamos que tenemos un conjunto de 4 elementos.\n",
    "Representaremos el subconjunto {0, 2} como un entero, donde\n",
    "los bits en '1' representan los elementos incluidos."
   ]
  },
  {
   "cell_type": "code",
   "execution_count": 1,
   "id": "f0ac256a-7184-404c-a34f-e60a39392fd4",
   "metadata": {},
   "outputs": [
    {
     "name": "stdout",
     "output_type": "stream",
     "text": [
      "Subset: 0b101\n"
     ]
    }
   ],
   "source": [
    "subset = 0b0101  # Esto representa el conjunto {0, 2} en binario.\n",
    "\n",
    "print(f'Subset: {bin(subset)}')  # Salida: 0b101"
   ]
  },
  {
   "cell_type": "markdown",
   "id": "ecfe33e8-743d-46e6-9e5f-b563fa601921",
   "metadata": {},
   "source": [
    "1. **Representación del subconjunto**: Utilizamos un entero (`subset`) que se representa en binario. Cada bit de este entero indica si un elemento está presente en el subconjunto o no. Por ejemplo, `0b0101` indica que los elementos 0 y 2 están presentes."
   ]
  },
  {
   "cell_type": "code",
   "execution_count": 4,
   "id": "dec06360-b7fa-477b-a4ed-99bc309a867a",
   "metadata": {},
   "outputs": [
    {
     "name": "stdout",
     "output_type": "stream",
     "text": [
      "8 0b1000\n",
      "13\n",
      "Despues de agregar 3: 0b1101\n"
     ]
    }
   ],
   "source": [
    "# Agregar un elemento (agregar el elemento 3 al subconjunto)\n",
    "new_element = 1 << 3  # 1 << 3 es 0b1000\n",
    "print(new_element, bin(new_element))\n",
    "subset |= new_element  # Utilizando el operador OR\n",
    "print(subset)\n",
    "print(f'Despues de agregar 3: {bin(subset)}')  # Salida: 0b1101"
   ]
  },
  {
   "cell_type": "markdown",
   "id": "bbdf43e8-23f6-462d-8c9e-747caa1239e2",
   "metadata": {},
   "source": [
    "2. **Agregar un elemento**: Para agregar un elemento al subconjunto, utilizamos el operador `|` (OR). Esto establecerá el bit correspondiente al nuevo elemento a `1`.\n"
   ]
  },
  {
   "cell_type": "code",
   "execution_count": 22,
   "id": "1e828bd1-76c2-42c5-8f79-44813e7bf1bf",
   "metadata": {},
   "outputs": [
    {
     "name": "stdout",
     "output_type": "stream",
     "text": [
      "4 0b100\n",
      "-5 -0b101\n",
      "Despues de remover el 2 elemento: 0b1\n"
     ]
    }
   ],
   "source": [
    "# Eliminar un elemento (quitar el elemento 2 del subconjunto)\n",
    "subset = 0b0101\n",
    "remove_element = 1 << 2  # 1 << 2 es 0b0100\n",
    "print(remove_element, bin(remove_element))\n",
    "print(~remove_element, bin(~remove_element))\n",
    "subset &= ~remove_element  # Utilizando el operador AND con NOT\n",
    "print(f'Despues de remover el 2 elemento: {bin(subset)}')  # Salida: 0b1001"
   ]
  },
  {
   "cell_type": "code",
   "execution_count": null,
   "id": "0417532a-b0cd-4adf-b12d-2b827f428e3d",
   "metadata": {},
   "outputs": [],
   "source": []
  },
  {
   "cell_type": "markdown",
   "id": "2f5cd71a-ff81-4abb-84e3-c03d1ab66b39",
   "metadata": {},
   "source": [
    "3. **Eliminar un elemento**: Para eliminar un elemento, utilizamos el operador `&` (AND) juntoado con `~` (NOT) en el bit que queremos eliminar. Esto pone el bit correspondiente a `0`."
   ]
  },
  {
   "cell_type": "code",
   "execution_count": 41,
   "id": "718327be-936c-4dde-88e5-3e8c53b3bb7b",
   "metadata": {},
   "outputs": [
    {
     "data": {
      "text/plain": [
       "'0b1010'"
      ]
     },
     "execution_count": 41,
     "metadata": {},
     "output_type": "execute_result"
    }
   ],
   "source": [
    "bin(10)"
   ]
  },
  {
   "cell_type": "code",
   "execution_count": 42,
   "id": "5aaec871-56e6-414c-929b-a8fb3c06519b",
   "metadata": {},
   "outputs": [
    {
     "data": {
      "text/plain": [
       "'-0b1011'"
      ]
     },
     "execution_count": 42,
     "metadata": {},
     "output_type": "execute_result"
    }
   ],
   "source": [
    "bin(~10)"
   ]
  },
  {
   "cell_type": "code",
   "execution_count": 43,
   "id": "6ad988a2-0653-49f9-bd61-ca7348833d5b",
   "metadata": {},
   "outputs": [
    {
     "data": {
      "text/plain": [
       "0"
      ]
     },
     "execution_count": 43,
     "metadata": {},
     "output_type": "execute_result"
    }
   ],
   "source": [
    "10 & ~10"
   ]
  },
  {
   "cell_type": "code",
   "execution_count": null,
   "id": "44c969bc-6f4c-49a5-8aeb-8d4bf88e7634",
   "metadata": {},
   "outputs": [],
   "source": []
  },
  {
   "cell_type": "markdown",
   "id": "b48a6f07-320b-4093-8042-90544666c108",
   "metadata": {},
   "source": [
    "Vamos a desglosar cómo funciona el operador bit a bit NOT (`~`), y por qué ves `-0b1011` en lugar de simplemente `0101` tras aplicar el NOT a `0b1010`.\n",
    "\n",
    "### Operador NOT en Binario\n",
    "\n",
    "El operador NOT invierte todos los bits de un número. Así que, en un ejemplo simple como `0b1010`, el \n",
    "operator NOT `~` funcionaría de la siguiente manera:\n",
    "\n",
    "1. **Número original**:  \n",
    "   `0b1010` = 10 en decimal (en 4 bits).  \n",
    "\n",
    "2. **Aplicando el operador NOT**:\n",
    "   - Inviertes todos los bits:\n",
    "   - `0b1010` se convierte en `0b0101` (que representa 5).\n",
    "   \n",
    "Sin embargo, el problema radica en la representación en la memoria y en cómo Python (o muchas otras lenguajes de programación) representas los números en forma binaria, especialmente cuando se tratan de números negativos.\n",
    "\n",
    "### Representación en Complemento a Dos\n",
    "\n",
    "Los números en muchas computadoras se representan en **complemento a dos**. Este método permite trabajar con números negativos de una manera eficiente. Cuando utilizas el operador NOT en un número, se convierte en un número negativo debido a este sistema de representación.\n",
    "\n",
    "Para comprender por qué obtienes `-0b1011` en lugar de `0b0101`, observemos lo siguiente:\n",
    "\n",
    "1. **Complemento a Dos**:\n",
    "   - Para convertir un número positivo a negativo en complemento a dos:\n",
    "     1. Inviertes los bits (aplicas NOT).\n",
    "     2. Sumas `1`.\n",
    "\n",
    "Por ejemplo, para `10` (`0b1010`):\n",
    "1. **Invertir los bits**: \n",
    "   - `0b1010` se convierte en `0b0101`.\n",
    "2. **Suma `1`**: \n",
    "   - `0b0101` + `0b0001` = `0b0110`, lo que corresponde a 6 en decimal, pero recuerda que este es el complemento para el bit más significativo que indica que el número es negativo.\n",
    "   \n",
    "Sin embargo, en forma de complemento a dos, **al aplicar el operador NOT a `0b1010`**:\n",
    "- El número `0b1010` en un sistema de 32 bits sería `00000000000000000000000000001010`.\n",
    "- Al aplicar NOT, se convierte en: \n",
    "  `11111111111111111111111111110101` (en binario).\n",
    "- Este número `11111111111111111111111111110101` es `-11` en decimal, que se expresa como `-0b1011`.\n",
    "\n",
    "### Resumen\n",
    "\n",
    "- `~0b1010` invierte los bits a `0b0101`, pero representa un número en sistema de complemento a dos.\n",
    "- La representación de Python representa automáticamente los números grandes como negativos cuando se aplica la inversión, dado el tamaño integral y la forma como se almacenan los números en binario.\n",
    "\n",
    "Si simplemente deseas ver la inversión de `0b1010` como `0b0101`, puedes hacerlo, pero cuando se realizan operaciones y se almacenan en tipos de datos enteros en memoria, la representación negativa aparece cuando el sistema de codificación de números realiza la conversión."
   ]
  },
  {
   "cell_type": "code",
   "execution_count": 7,
   "id": "b75a7456-756a-424d-ab6b-6e6605b4e130",
   "metadata": {},
   "outputs": [
    {
     "name": "stdout",
     "output_type": "stream",
     "text": [
      "1 0b1\n",
      "Is element 0 present? : True\n"
     ]
    }
   ],
   "source": [
    "# Verificar si un elemento está en el subconjunto (verificar elemento 0)\n",
    "check_element = 1 << 0  # 1 << 0 es 0b0001\n",
    "print(check_element, bin(check_element))\n",
    "is_present = subset & check_element  # Utilizando el operador AND\n",
    "print(f'Is element 0 present? : {bool(is_present)}')  # Salida: True"
   ]
  }
 ],
 "metadata": {
  "kernelspec": {
   "display_name": "py312",
   "language": "python",
   "name": "py312"
  },
  "language_info": {
   "codemirror_mode": {
    "name": "ipython",
    "version": 3
   },
   "file_extension": ".py",
   "mimetype": "text/x-python",
   "name": "python",
   "nbconvert_exporter": "python",
   "pygments_lexer": "ipython3",
   "version": "3.12.6"
  }
 },
 "nbformat": 4,
 "nbformat_minor": 5
}
