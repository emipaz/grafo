{
 "cells": [
  {
   "cell_type": "code",
   "execution_count": 1,
   "id": "56ed8ed0-0447-44c5-8cce-aae983530c43",
   "metadata": {},
   "outputs": [],
   "source": [
    "## funcion generadora de grafos"
   ]
  },
  {
   "cell_type": "code",
   "execution_count": 3,
   "id": "cb45a53a-fcf6-430b-904e-718afecc642b",
   "metadata": {},
   "outputs": [],
   "source": [
    "from grafo import Graph_Advanced"
   ]
  },
  {
   "cell_type": "code",
   "execution_count": 4,
   "id": "12006e0e-236d-456a-8252-8e1fb9dd95af",
   "metadata": {},
   "outputs": [
    {
     "name": "stdout",
     "output_type": "stream",
     "text": [
      "{'A': {'B': 10, 'C': 20}, 'B': {'C': 2}, 'C': {'B': 2, 'A': 20}}\n"
     ]
    }
   ],
   "source": [
    "g = Graph_Advanced(directed=True)\n",
    "g.add_vertex('A')\n",
    "g.add_vertex('B')\n",
    "g.add_vertex('C')\n",
    "g.add_edge('A', 'B', weight=10)\n",
    "g.add_edge('A', 'C', weight=20)\n",
    "g.add_edge('C', 'B', weight=2)\n",
    "g.add_edge('B', 'C', weight=2)\n",
    "g.add_edge('C', 'A', weight=20)\n",
    "print(g)"
   ]
  },
  {
   "cell_type": "code",
   "execution_count": 5,
   "id": "76868d4a-2ee4-4e4c-befa-f880c2544235",
   "metadata": {},
   "outputs": [
    {
     "name": "stdout",
     "output_type": "stream",
     "text": [
      "{'A': {'B': 10, 'C': 20}, 'B': {'A': 10, 'C': 2}, 'C': {'A': 20, 'B': 2}}\n"
     ]
    }
   ],
   "source": [
    "g = Graph_Advanced(directed=False)\n",
    "g.add_vertex('A')\n",
    "g.add_vertex('B')\n",
    "g.add_vertex('C')\n",
    "g.add_edge('A', 'B', weight=10)\n",
    "g.add_edge('A', 'C', weight=20)\n",
    "g.add_edge('C', 'B', weight=2)\n",
    "g.add_edge('B', 'C', weight=2)\n",
    "g.add_edge('C', 'A', weight=20)\n",
    "print(g)"
   ]
  },
  {
   "cell_type": "code",
   "execution_count": 6,
   "id": "f00cdeec-af33-4708-ad47-ba76d277d1a1",
   "metadata": {},
   "outputs": [],
   "source": [
    "import random"
   ]
  },
  {
   "cell_type": "code",
   "execution_count": 7,
   "id": "1669df7f-15f3-4df1-b6ab-e23dc8993d91",
   "metadata": {},
   "outputs": [],
   "source": [
    "def generate_graph(nodes, edges=None, complete=False, weight_bounds=(1,600), seed=None):\n",
    "    \"\"\"\n",
    "    Genera un grafo con parámetros especificados, permitiendo tanto grafos \n",
    "    completos como incompletos.\n",
    "    \n",
    "    Esta función crea un grafo con un número especificado de nodos y aristas, \n",
    "    con opciones para crear un grafo completo y para especificar los límites \n",
    "    de peso de las aristas. \n",
    "    Utiliza la clase Graph_Advanced para crear y manipular el grafo.\n",
    "\n",
    "    **Parámetros:**\n",
    "      - **nodes (int):** El número de nodos en el grafo. Debe ser un entero positivo.\n",
    "      - **edges (int, opcional):** El número de aristas a añadir por cada nodo en el\n",
    "         grafo. Este parámetro se ignora si `complete` se establece en True. \n",
    "         Por defecto es None.\n",
    "      - **complete (bool, opcional):** Si se establece en True, genera un grafo \n",
    "         completo donde cada par de vértices distintos está conectado por una arista única.\n",
    "         Por defecto es False.\n",
    "      - **weight_bounds (tuple, opcional):** Una tupla que especifica los límites \n",
    "         inferior y superior (inclusive) para los pesos aleatorios de las aristas. \n",
    "         Por defecto es (1, 600).\n",
    "      - **seed (int, opcional):** Una semilla para el generador de números aleatorios \n",
    "         para asegurar la reproducibilidad. Por defecto es None.\n",
    "\n",
    "    **Excepciones:**\n",
    "      - **ValueError:** Si `edges` no es None y `complete` se establece en True, \n",
    "      ya que un grafo completo no requiere especificar el número de aristas.\n",
    "\n",
    "    **Devuelve:**\n",
    "      - **Graph_Advanced:** Una instancia de la clase Graph_Advanced que representa \n",
    "        el grafo generado, con vértices etiquetados como enteros comenzando desde 0.\n",
    "\n",
    "    **Ejemplos:**\n",
    "      - Generando un grafo completo con 5 nodos:\n",
    "        `generate_graph(5, complete=True)`\n",
    "\n",
    "      - Generando un grafo incompleto con 5 nodos y 2 aristas por nodo:\n",
    "        `generate_graph(5, edges=2)`\n",
    "\n",
    "    **Nota:**\n",
    "      - La función asume la existencia de una clase Graph_Advanced con métodos para \n",
    "        añadir vértices (`add_vertex`) y aristas (`add_edge`), así como un método para\n",
    "        obtener vértices adyacentes (`get_adjacent_vertices`).\n",
    "    \"\"\"\n",
    "    random.seed(seed)\n",
    "    graph = Graph_Advanced()\n",
    "    if edges is not None and complete:\n",
    "        raise ValueError(\"edges must be None if complete is set to True\")\n",
    "    if not complete and edges > nodes:\n",
    "        raise ValueError(\"number of edges must be less than number of nodes\")\n",
    "    \n",
    "\n",
    "    for i in range(nodes):\n",
    "        graph.add_vertex(i)\n",
    "    if complete:\n",
    "        for i in range(nodes):\n",
    "            for j in range(i+1,nodes):\n",
    "                weight = random.randint(weight_bounds[0], weight_bounds[1])\n",
    "                graph.add_edge(i,j,weight)\n",
    "    else:\n",
    "        for i in range(nodes):\n",
    "            for _ in range(edges):\n",
    "                j = random.randint(0, nodes - 1)\n",
    "                while (j == i or j in graph.get_adjacent_vertices(i)) and len(graph.get_adjacent_vertices(i)) < nodes - 1:  # Ensure the edge is not a loop or a duplicate\n",
    "                    j = random.randint(0, nodes - 1)\n",
    "                weight = random.randint(weight_bounds[0], weight_bounds[1])\n",
    "                if len(graph.graph[i]) < edges and len(graph.graph[j]) < edges:\n",
    "                    graph.add_edge(i, j, weight)\n",
    "    return graph"
   ]
  },
  {
   "cell_type": "code",
   "execution_count": 8,
   "id": "e28202c1-8fc4-402a-872a-7c6cace9498d",
   "metadata": {},
   "outputs": [],
   "source": [
    "nodos_5 = generate_graph(5, edges=2)"
   ]
  },
  {
   "cell_type": "code",
   "execution_count": 9,
   "id": "749b05d8-cdf0-4942-b777-7bd2e444d46e",
   "metadata": {},
   "outputs": [
    {
     "data": {
      "text/plain": [
       "<grafo.Graph_Advanced at 0x2ab0791aba0>"
      ]
     },
     "execution_count": 9,
     "metadata": {},
     "output_type": "execute_result"
    }
   ],
   "source": [
    "nodos_5"
   ]
  },
  {
   "cell_type": "code",
   "execution_count": 10,
   "id": "1fbea999-4fc6-495b-b2b4-264bea920266",
   "metadata": {},
   "outputs": [
    {
     "name": "stdout",
     "output_type": "stream",
     "text": [
      "{0: {2: 119, 1: 49}, 1: {0: 49, 2: 115}, 2: {0: 119, 1: 115}, 3: {4: 539}, 4: {3: 539}}\n"
     ]
    }
   ],
   "source": [
    "print(nodos_5)"
   ]
  },
  {
   "cell_type": "code",
   "execution_count": 11,
   "id": "3eb865a6-f5bf-4c54-93f9-fba120eb22e0",
   "metadata": {},
   "outputs": [
    {
     "data": {
      "text/plain": [
       "(inf, [])"
      ]
     },
     "execution_count": 11,
     "metadata": {},
     "output_type": "execute_result"
    }
   ],
   "source": [
    "nodos_5.shortest_path(0,3)"
   ]
  },
  {
   "cell_type": "code",
   "execution_count": 12,
   "id": "05cd944d-14cc-4c84-8c8e-87249bee0111",
   "metadata": {},
   "outputs": [],
   "source": [
    "nodos_200 = generate_graph(200, complete=False, edges=4, seed=1)"
   ]
  },
  {
   "cell_type": "code",
   "execution_count": 13,
   "id": "773f556d-842e-43ad-ae08-06a8f4b680e9",
   "metadata": {
    "scrolled": true
   },
   "outputs": [
    {
     "name": "stdout",
     "output_type": "stream",
     "text": [
      "{0: {34: 583, 195: 65, 65: 121, 126: 461}, 1: {120: 389, 53: 97, 124: 30, 99: 444}, 2: {155: 3, 178: 457, 68: 235, 151: 105}, 3: {81: 32, 5: 27, 166: 555, 111: 37}, 4: {175: 222, 108: 30, 135: 228, 195: 449}, 5: {3: 27, 126: 567, 59: 354, 173: 225}, 6: {74: 23, 106: 570, 164: 103, 47: 304}, 7: {30: 341, 184: 513, 108: 520, 171: 195}, 8: {77: 291, 150: 512, 129: 403, 122: 249}, 9: {190: 414, 106: 178, 93: 562, 179: 384}, 10: {22: 450, 169: 521, 27: 168, 133: 403}, 11: {94: 502, 187: 31, 120: 45, 78: 593}, 12: {100: 175, 43: 515, 58: 13, 197: 205}, 13: {138: 562, 59: 415, 131: 353, 147: 362}, 14: {117: 276, 168: 562, 155: 6, 98: 525}, 15: {33: 532, 199: 575, 52: 437, 27: 306}, 16: {93: 584, 141: 205, 129: 424, 124: 366}, 17: {106: 355, 138: 340, 117: 29, 20: 172}, 18: {58: 182, 140: 599, 46: 94, 141: 262}, 19: {21: 18, 115: 15, 193: 288, 39: 585}, 20: {63: 276, 28: 190, 88: 298, 17: 172}, 21: {19: 18, 40: 262, 135: 173, 168: 280}, 22: {10: 450, 116: 330, 127: 486, 29: 25}, 23: {87: 432, 48: 265, 27: 260, 186: 523}, 24: {53: 443, 37: 37, 105: 228, 118: 155}, 25: {184: 165, 114: 519, 173: 437, 139: 226}, 26: {161: 529, 115: 229, 134: 32, 101: 590}, 27: {10: 168, 23: 260, 82: 437, 15: 306}, 28: {20: 190, 79: 306, 190: 163, 106: 579}, 29: {22: 25, 64: 134, 145: 472, 37: 299}, 30: {7: 341, 43: 522, 51: 356, 79: 583}, 31: {146: 444, 151: 199, 126: 107, 170: 400}, 32: {75: 517, 127: 18, 83: 412, 72: 19}, 33: {15: 532, 40: 206, 83: 577, 34: 348}, 34: {0: 583, 33: 348, 68: 99, 97: 561}, 35: {60: 67, 185: 42, 43: 171, 62: 266}, 36: {137: 219, 68: 341, 153: 519, 65: 377}, 37: {24: 37, 86: 349, 29: 299, 60: 501}, 38: {141: 107, 82: 41, 104: 75, 97: 151}, 39: {19: 585, 140: 230, 54: 104, 154: 492}, 40: {21: 262, 33: 206, 144: 84, 68: 374}, 41: {117: 284, 75: 13, 157: 15, 43: 119}, 42: {48: 246, 150: 432, 70: 558, 160: 534}, 43: {12: 515, 30: 522, 35: 171, 41: 119}, 44: {111: 388, 138: 302, 140: 260, 182: 489}, 45: {80: 103, 53: 326, 55: 154, 58: 307}, 46: {18: 94, 185: 328, 115: 401, 80: 409}, 47: {6: 304, 81: 467, 55: 556, 176: 481}, 48: {23: 265, 42: 246, 169: 365, 66: 188}, 49: {63: 370}, 50: {164: 348, 58: 400, 78: 43, 83: 192}, 51: {30: 356, 81: 593, 77: 252, 85: 104}, 52: {15: 437, 152: 95, 62: 226, 102: 75}, 53: {1: 97, 24: 443, 45: 326, 74: 368}, 54: {126: 481, 39: 104, 128: 336, 73: 123}, 55: {47: 556, 170: 178, 45: 154, 78: 110}, 56: {181: 527, 154: 301, 139: 206, 180: 310}, 57: {184: 33, 199: 324, 159: 567, 191: 211}, 58: {12: 13, 18: 182, 50: 400, 45: 307}, 59: {5: 354, 13: 415, 64: 66, 174: 458}, 60: {35: 67, 37: 501, 137: 465, 86: 176}, 61: {146: 20, 148: 142, 167: 347, 181: 221}, 62: {52: 226, 151: 129, 35: 266, 70: 408}, 63: {20: 276, 49: 370, 135: 325}, 64: {29: 134, 59: 66, 128: 449, 175: 232}, 65: {0: 121, 36: 377, 86: 574, 156: 282}, 66: {48: 188, 195: 524, 165: 378, 76: 212}, 67: {196: 209, 79: 306, 177: 307, 141: 381}, 68: {2: 235, 34: 99, 36: 341, 40: 374}, 69: {184: 54, 96: 365, 121: 93, 149: 382}, 70: {62: 408, 183: 357, 98: 528, 42: 558}, 71: {186: 42, 134: 93, 84: 524, 131: 492}, 72: {32: 19, 113: 247, 97: 444, 101: 169}, 73: {83: 449, 54: 123, 110: 547, 161: 505}, 74: {6: 23, 53: 368, 104: 121, 169: 303}, 75: {32: 517, 41: 13, 135: 450, 148: 22}, 76: {66: 212, 143: 6, 163: 104}, 77: {8: 291, 51: 252, 79: 600, 193: 257}, 78: {11: 593, 50: 43, 55: 110, 91: 503}, 79: {28: 306, 67: 306, 77: 600, 30: 583}, 80: {45: 103, 46: 409, 139: 304, 172: 140}, 81: {3: 32, 47: 467, 51: 593, 128: 366}, 82: {27: 437, 38: 41, 183: 461, 89: 313}, 83: {32: 412, 33: 577, 50: 192, 73: 449}, 84: {142: 4, 71: 524, 153: 530, 107: 509}, 85: {51: 104, 104: 313, 179: 175, 115: 544}, 86: {37: 349, 60: 176, 65: 574, 134: 4}, 87: {23: 432, 159: 599, 187: 70, 163: 298}, 88: {20: 298, 161: 22, 104: 160, 162: 407}, 89: {82: 313, 196: 76, 198: 11, 175: 558}, 90: {118: 266, 124: 174, 119: 523, 129: 280}, 91: {78: 503, 130: 101, 190: 433, 192: 163}, 92: {129: 166, 176: 96, 101: 318, 133: 380}, 93: {9: 562, 16: 584, 102: 283, 154: 312}, 94: {11: 502, 178: 536, 168: 378, 199: 505}, 95: {119: 524, 142: 51, 167: 570, 176: 248}, 96: {69: 365, 156: 238, 100: 575, 102: 177}, 97: {34: 561, 38: 151, 72: 444, 123: 266}, 98: {14: 525, 70: 528, 169: 32, 159: 413}, 99: {1: 444, 148: 455, 186: 152, 107: 217}, 100: {12: 175, 96: 575, 155: 269, 117: 540}, 101: {26: 590, 72: 169, 183: 452, 92: 318}, 102: {52: 75, 93: 283, 96: 177, 183: 212}, 103: {152: 24, 178: 94}, 104: {38: 75, 74: 121, 85: 313, 88: 160}, 105: {24: 228}, 106: {6: 570, 9: 178, 17: 355, 28: 579}, 107: {140: 594, 99: 217, 84: 509, 147: 412}, 108: {4: 30, 7: 520, 151: 114, 147: 580}, 109: {148: 295, 119: 46}, 110: {73: 547, 170: 556, 113: 94}, 111: {44: 388, 118: 311, 3: 37, 181: 282}, 112: {137: 63, 134: 133, 199: 121}, 113: {72: 247, 110: 94, 127: 134, 190: 286}, 114: {25: 519, 175: 197, 161: 275}, 115: {19: 15, 26: 229, 46: 401, 85: 544}, 116: {22: 330, 154: 574, 163: 535, 131: 373}, 117: {14: 276, 17: 29, 41: 284, 100: 540}, 118: {90: 266, 111: 311, 24: 155}, 119: {90: 523, 95: 524, 109: 46, 131: 481}, 120: {1: 389, 11: 45, 136: 34}, 121: {69: 93, 192: 252}, 122: {8: 249, 187: 268, 166: 314}, 123: {97: 266, 185: 344}, 124: {1: 30, 16: 366, 90: 174, 142: 211}, 125: {167: 460, 132: 590}, 126: {0: 461, 5: 567, 31: 107, 54: 481}, 127: {22: 486, 32: 18, 113: 134, 147: 67}, 128: {54: 336, 64: 449, 81: 366, 166: 547}, 129: {8: 403, 16: 424, 92: 166, 90: 280}, 130: {91: 101, 186: 334}, 131: {13: 353, 119: 481, 71: 492, 116: 373}, 132: {125: 590}, 133: {10: 403, 179: 588, 191: 347, 92: 380}, 134: {26: 32, 71: 93, 86: 4, 112: 133}, 135: {4: 228, 21: 173, 63: 325, 75: 450}, 136: {120: 34, 174: 273, 182: 110, 156: 433}, 137: {36: 219, 60: 465, 112: 63, 187: 10}, 138: {13: 562, 17: 340, 44: 302, 164: 178}, 139: {25: 226, 80: 304, 56: 206, 153: 506}, 140: {18: 599, 39: 230, 44: 260, 107: 594}, 141: {16: 205, 18: 262, 38: 107, 67: 381}, 142: {84: 4, 95: 51, 124: 211, 157: 523}, 143: {76: 6, 165: 60}, 144: {40: 84, 191: 324, 198: 557, 165: 586}, 145: {29: 472, 171: 316}, 146: {31: 444, 61: 20, 150: 144, 174: 43}, 147: {13: 362, 127: 67, 108: 580, 107: 412}, 148: {61: 142, 75: 22, 99: 455, 109: 295}, 149: {69: 382, 162: 493, 196: 345}, 150: {8: 512, 42: 432, 146: 144}, 151: {2: 105, 31: 199, 62: 129, 108: 114}, 152: {52: 95, 103: 24, 189: 431, 176: 281}, 153: {36: 519, 84: 530, 139: 506, 188: 433}, 154: {56: 301, 93: 312, 116: 574, 39: 492}, 155: {2: 3, 14: 6, 100: 269, 198: 102}, 156: {65: 282, 96: 238, 136: 433, 166: 106}, 157: {41: 15, 142: 523, 188: 567, 173: 430}, 158: {180: 49, 179: 541}, 159: {57: 567, 87: 599, 98: 413, 171: 459}, 160: {42: 534, 163: 451}, 161: {26: 529, 88: 22, 114: 275, 73: 505}, 162: {88: 407, 149: 493, 181: 274, 170: 552}, 163: {87: 298, 116: 535, 160: 451, 76: 104}, 164: {6: 103, 50: 348, 138: 178, 180: 253}, 165: {66: 378, 144: 586, 143: 60, 168: 219}, 166: {3: 555, 128: 547, 156: 106, 122: 314}, 167: {95: 570, 125: 460, 61: 347, 189: 595}, 168: {14: 562, 21: 280, 94: 378, 165: 219}, 169: {10: 521, 48: 365, 74: 303, 98: 32}, 170: {31: 400, 55: 178, 110: 556, 162: 552}, 171: {7: 195, 159: 459, 145: 316}, 172: {80: 140}, 173: {5: 225, 25: 437, 157: 430, 178: 591}, 174: {59: 458, 136: 273, 197: 147, 146: 43}, 175: {4: 222, 64: 232, 89: 558, 114: 197}, 176: {47: 481, 92: 96, 152: 281, 95: 248}, 177: {67: 307}, 178: {2: 457, 94: 536, 103: 94, 173: 591}, 179: {9: 384, 85: 175, 133: 588, 158: 541}, 180: {158: 49, 164: 253, 56: 310, 193: 322}, 181: {56: 527, 162: 274, 61: 221, 111: 282}, 182: {44: 489, 136: 110}, 183: {70: 357, 82: 461, 101: 452, 102: 212}, 184: {7: 513, 25: 165, 57: 33, 69: 54}, 185: {35: 42, 46: 328, 123: 344}, 186: {23: 523, 71: 42, 99: 152, 130: 334}, 187: {11: 31, 87: 70, 122: 268, 137: 10}, 188: {157: 567, 153: 433}, 189: {152: 431, 167: 595}, 190: {9: 414, 28: 163, 91: 433, 113: 286}, 191: {57: 211, 133: 347, 144: 324, 195: 365}, 192: {121: 252, 91: 163}, 193: {19: 288, 77: 257, 180: 322, 194: 350}, 194: {193: 350}, 195: {0: 65, 4: 449, 66: 524, 191: 365}, 196: {67: 209, 89: 76, 149: 345}, 197: {12: 205, 174: 147}, 198: {89: 11, 144: 557, 155: 102}, 199: {15: 575, 57: 324, 112: 121, 94: 505}}\n"
     ]
    }
   ],
   "source": [
    "print(nodos_200)"
   ]
  },
  {
   "cell_type": "code",
   "execution_count": 14,
   "id": "4de927f0-5b06-45f4-81ec-402a56ebcb5c",
   "metadata": {},
   "outputs": [
    {
     "data": {
      "text/plain": [
       "(1156, [0, 126, 31, 146, 150])"
      ]
     },
     "execution_count": 14,
     "metadata": {},
     "output_type": "execute_result"
    }
   ],
   "source": [
    "nodos_200.shortest_path(0,150)"
   ]
  },
  {
   "cell_type": "code",
   "execution_count": 15,
   "id": "b456f072-f7c7-4072-8d66-f8b9d0029aa8",
   "metadata": {},
   "outputs": [],
   "source": [
    "nodos_10 = generate_graph(10, complete=True, seed=1)"
   ]
  },
  {
   "cell_type": "code",
   "execution_count": 16,
   "id": "26784aaa-05ce-44e5-8866-d97c223a2068",
   "metadata": {},
   "outputs": [
    {
     "data": {
      "text/plain": [
       "grafo.Graph_Advanced"
      ]
     },
     "execution_count": 16,
     "metadata": {},
     "output_type": "execute_result"
    }
   ],
   "source": [
    "type(nodos_10)"
   ]
  },
  {
   "cell_type": "code",
   "execution_count": 17,
   "id": "507f7fb9-db31-44ef-ba1a-fa2d2bc5ad48",
   "metadata": {},
   "outputs": [
    {
     "data": {
      "text/plain": [
       "{0: {1: 138, 2: 583, 3: 65, 4: 262, 5: 121, 6: 508, 7: 461, 8: 484, 9: 389},\n",
       " 1: {0: 138, 2: 215, 3: 97, 4: 500, 5: 30, 6: 400, 7: 444, 8: 3, 9: 457},\n",
       " 2: {0: 583, 1: 215, 3: 273, 4: 235, 5: 105, 6: 326, 7: 32, 8: 23, 9: 27},\n",
       " 3: {0: 65, 1: 97, 2: 273, 4: 555, 5: 10, 6: 391, 7: 222, 8: 433, 9: 30},\n",
       " 4: {0: 262, 1: 500, 2: 235, 3: 555, 5: 541, 6: 228, 7: 449, 8: 508, 9: 567},\n",
       " 5: {0: 121, 1: 30, 2: 105, 3: 10, 4: 541, 6: 239, 7: 354, 8: 237, 9: 225},\n",
       " 6: {0: 508, 1: 400, 2: 326, 3: 391, 4: 228, 5: 239, 7: 471, 8: 297, 9: 23},\n",
       " 7: {0: 461, 1: 444, 2: 32, 3: 222, 4: 449, 5: 354, 6: 471, 8: 427, 9: 570},\n",
       " 8: {0: 484, 1: 3, 2: 23, 3: 433, 4: 508, 5: 237, 6: 297, 7: 427, 9: 103},\n",
       " 9: {0: 389, 1: 457, 2: 27, 3: 30, 4: 567, 5: 225, 6: 23, 7: 570, 8: 103}}"
      ]
     },
     "execution_count": 17,
     "metadata": {},
     "output_type": "execute_result"
    }
   ],
   "source": [
    "nodos_10.graph"
   ]
  },
  {
   "cell_type": "code",
   "execution_count": 18,
   "id": "f8d36d90-85c9-450b-8b67-ded57f4c2aec",
   "metadata": {},
   "outputs": [
    {
     "data": {
      "text/plain": [
       "121"
      ]
     },
     "execution_count": 18,
     "metadata": {},
     "output_type": "execute_result"
    }
   ],
   "source": [
    "nodos_10._get_edge_weight(0,5)"
   ]
  },
  {
   "cell_type": "code",
   "execution_count": 19,
   "id": "654932ad-e7dd-4098-b9b4-80d2d06dedfd",
   "metadata": {},
   "outputs": [
    {
     "data": {
      "text/plain": [
       "65"
      ]
     },
     "execution_count": 19,
     "metadata": {},
     "output_type": "execute_result"
    }
   ],
   "source": [
    "nodos_10._get_edge_weight(0,3)"
   ]
  },
  {
   "cell_type": "code",
   "execution_count": 20,
   "id": "b92f3e74-c824-4b8f-a3c6-a65f3203f1c1",
   "metadata": {},
   "outputs": [
    {
     "data": {
      "text/plain": [
       "10"
      ]
     },
     "execution_count": 20,
     "metadata": {},
     "output_type": "execute_result"
    }
   ],
   "source": [
    "nodos_10._get_edge_weight(3,5)"
   ]
  },
  {
   "cell_type": "code",
   "execution_count": 21,
   "id": "4c59f55f-d7f2-4795-801c-b77f792bced8",
   "metadata": {},
   "outputs": [
    {
     "data": {
      "text/plain": [
       "(75, [0, 3, 5])"
      ]
     },
     "execution_count": 21,
     "metadata": {},
     "output_type": "execute_result"
    }
   ],
   "source": [
    "nodos_10.shortest_path(0,5)"
   ]
  },
  {
   "cell_type": "code",
   "execution_count": 22,
   "id": "5dcbcf2a-763d-4f6d-8c8b-4d955f968924",
   "metadata": {},
   "outputs": [
    {
     "name": "stdout",
     "output_type": "stream",
     "text": [
      "CPU times: total: 78.1 ms\n",
      "Wall time: 85 ms\n"
     ]
    },
    {
     "data": {
      "text/plain": [
       "(974, [5, 0, 4, 6, 9, 3, 7, 2, 8, 1, 5])"
      ]
     },
     "execution_count": 22,
     "metadata": {},
     "output_type": "execute_result"
    }
   ],
   "source": [
    "%%time\n",
    "nodos_10.tsp_small_graph(5)"
   ]
  },
  {
   "cell_type": "code",
   "execution_count": null,
   "id": "2990e6e4-01e4-48ab-93c9-bc20ec00c712",
   "metadata": {},
   "outputs": [],
   "source": []
  },
  {
   "cell_type": "code",
   "execution_count": 24,
   "id": "c10210b8-4401-4fbd-8dc9-34e765929a4b",
   "metadata": {},
   "outputs": [],
   "source": [
    "nodos_15 = generate_graph(15, complete=True, seed=1)"
   ]
  },
  {
   "cell_type": "code",
   "execution_count": 25,
   "id": "8412418f-5e25-4852-9cd9-1e81df62dd0c",
   "metadata": {},
   "outputs": [
    {
     "name": "stdout",
     "output_type": "stream",
     "text": [
      "CPU times: total: 3.17 s\n",
      "Wall time: 3.26 s\n"
     ]
    },
    {
     "data": {
      "text/plain": [
       "(1167, [5, 0, 13, 4, 7, 9, 1, 10, 8, 11, 12, 3, 6, 14, 2, 5])"
      ]
     },
     "execution_count": 25,
     "metadata": {},
     "output_type": "execute_result"
    }
   ],
   "source": [
    "%%time\n",
    "nodos_15.tsp_small_graph(5)"
   ]
  },
  {
   "cell_type": "code",
   "execution_count": null,
   "id": "c274ebd2-907a-47d9-b7e8-574f4e0b7034",
   "metadata": {},
   "outputs": [],
   "source": []
  }
 ],
 "metadata": {
  "kernelspec": {
   "display_name": "py312",
   "language": "python",
   "name": "py312"
  },
  "language_info": {
   "codemirror_mode": {
    "name": "ipython",
    "version": 3
   },
   "file_extension": ".py",
   "mimetype": "text/x-python",
   "name": "python",
   "nbconvert_exporter": "python",
   "pygments_lexer": "ipython3",
   "version": "3.12.6"
  }
 },
 "nbformat": 4,
 "nbformat_minor": 5
}
