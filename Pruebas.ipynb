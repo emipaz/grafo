{
 "cells": [
  {
   "cell_type": "code",
   "execution_count": 1,
   "id": "56ed8ed0-0447-44c5-8cce-aae983530c43",
   "metadata": {},
   "outputs": [],
   "source": [
    "## funcion generadora de grafos"
   ]
  },
  {
   "cell_type": "code",
   "execution_count": 2,
   "id": "cb45a53a-fcf6-430b-904e-718afecc642b",
   "metadata": {},
   "outputs": [],
   "source": [
    "from grafo import Graph_Advanced"
   ]
  },
  {
   "cell_type": "code",
   "execution_count": 3,
   "id": "12006e0e-236d-456a-8252-8e1fb9dd95af",
   "metadata": {},
   "outputs": [
    {
     "name": "stdout",
     "output_type": "stream",
     "text": [
      "{'A': {'B': 10, 'C': 20}, 'B': {'C': 2}, 'C': {'B': 2, 'A': 20}}\n"
     ]
    }
   ],
   "source": [
    "g = Graph_Advanced(directed=True)\n",
    "g.add_vertex('A')\n",
    "g.add_vertex('B')\n",
    "g.add_vertex('C')\n",
    "g.add_edge('A', 'B', weight=10)\n",
    "g.add_edge('A', 'C', weight=20)\n",
    "g.add_edge('C', 'B', weight=2)\n",
    "g.add_edge('B', 'C', weight=2)\n",
    "g.add_edge('C', 'A', weight=20)\n",
    "print(g)"
   ]
  },
  {
   "cell_type": "code",
   "execution_count": 4,
   "id": "76868d4a-2ee4-4e4c-befa-f880c2544235",
   "metadata": {},
   "outputs": [],
   "source": [
    "g = Graph_Advanced(directed=False)\n",
    "g.add_vertex('A')\n",
    "g.add_vertex('B')\n",
    "g.add_vertex('C')\n",
    "g.add_edge('A', 'B', weight=10)\n",
    "g.add_edge('A', 'C', weight=20)\n",
    "g.add_edge('C', 'B', weight=2)\n",
    "g.add_edge('B', 'C', weight=2)\n",
    "g.add_edge('C', 'A', weight=20)"
   ]
  },
  {
   "cell_type": "code",
   "execution_count": 5,
   "id": "f00cdeec-af33-4708-ad47-ba76d277d1a1",
   "metadata": {},
   "outputs": [],
   "source": [
    "import random"
   ]
  },
  {
   "cell_type": "code",
   "execution_count": 6,
   "id": "1669df7f-15f3-4df1-b6ab-e23dc8993d91",
   "metadata": {},
   "outputs": [],
   "source": [
    "def generate_graph(nodes, edges=None, complete=False, weight_bounds=(1,600), seed=None):\n",
    "    \"\"\"\n",
    "    Genera un grafo con parámetros especificados, permitiendo tanto grafos \n",
    "    completos como incompletos.\n",
    "    \n",
    "    Esta función crea un grafo con un número especificado de nodos y aristas, \n",
    "    con opciones para crear un grafo completo y para especificar los límites \n",
    "    de peso de las aristas. \n",
    "    Utiliza la clase Graph_Advanced para crear y manipular el grafo.\n",
    "\n",
    "    **Parámetros:**\n",
    "      - **nodes (int):** El número de nodos en el grafo. Debe ser un entero positivo.\n",
    "      - **edges (int, opcional):** El número de aristas a añadir por cada nodo en el\n",
    "         grafo. Este parámetro se ignora si `complete` se establece en True. \n",
    "         Por defecto es None.\n",
    "      - **complete (bool, opcional):** Si se establece en True, genera un grafo \n",
    "         completo donde cada par de vértices distintos está conectado por una arista única.\n",
    "         Por defecto es False.\n",
    "      - **weight_bounds (tuple, opcional):** Una tupla que especifica los límites \n",
    "         inferior y superior (inclusive) para los pesos aleatorios de las aristas. \n",
    "         Por defecto es (1, 600).\n",
    "      - **seed (int, opcional):** Una semilla para el generador de números aleatorios \n",
    "         para asegurar la reproducibilidad. Por defecto es None.\n",
    "\n",
    "    **Excepciones:**\n",
    "      - **ValueError:** Si `edges` no es None y `complete` se establece en True, \n",
    "      ya que un grafo completo no requiere especificar el número de aristas.\n",
    "\n",
    "    **Devuelve:**\n",
    "      - **Graph_Advanced:** Una instancia de la clase Graph_Advanced que representa \n",
    "        el grafo generado, con vértices etiquetados como enteros comenzando desde 0.\n",
    "\n",
    "    **Ejemplos:**\n",
    "      - Generando un grafo completo con 5 nodos:\n",
    "        `generate_graph(5, complete=True)`\n",
    "\n",
    "      - Generando un grafo incompleto con 5 nodos y 2 aristas por nodo:\n",
    "        `generate_graph(5, edges=2)`\n",
    "\n",
    "    **Nota:**\n",
    "      - La función asume la existencia de una clase Graph_Advanced con métodos para \n",
    "        añadir vértices (`add_vertex`) y aristas (`add_edge`), así como un método para\n",
    "        obtener vértices adyacentes (`get_adjacent_vertices`).\n",
    "    \"\"\"\n",
    "    random.seed(seed)\n",
    "    graph = Graph_Advanced()\n",
    "    if edges is not None and complete:\n",
    "        raise ValueError(\"edges must be None if complete is set to True\")\n",
    "    if not complete and edges > nodes:\n",
    "        raise ValueError(\"number of edges must be less than number of nodes\")\n",
    "    \n",
    "\n",
    "    for i in range(nodes):\n",
    "        graph.add_vertex(i)\n",
    "    if complete:\n",
    "        for i in range(nodes):\n",
    "            for j in range(i+1,nodes):\n",
    "                weight = random.randint(weight_bounds[0], weight_bounds[1])\n",
    "                graph.add_edge(i,j,weight)\n",
    "    else:\n",
    "        for i in range(nodes):\n",
    "            for _ in range(edges):\n",
    "                j = random.randint(0, nodes - 1)\n",
    "                while (j == i or j in graph.get_adjacent_vertices(i)) and len(graph.get_adjacent_vertices(i)) < nodes - 1:  # Ensure the edge is not a loop or a duplicate\n",
    "                    j = random.randint(0, nodes - 1)\n",
    "                weight = random.randint(weight_bounds[0], weight_bounds[1])\n",
    "                if len(graph.graph[i]) < edges and len(graph.graph[j]) < edges:\n",
    "                    graph.add_edge(i, j, weight)\n",
    "    return graph"
   ]
  },
  {
   "cell_type": "code",
   "execution_count": 7,
   "id": "e28202c1-8fc4-402a-872a-7c6cace9498d",
   "metadata": {},
   "outputs": [],
   "source": [
    "nodos_5 = generate_graph(5, edges=2)"
   ]
  },
  {
   "cell_type": "code",
   "execution_count": 8,
   "id": "749b05d8-cdf0-4942-b777-7bd2e444d46e",
   "metadata": {},
   "outputs": [
    {
     "data": {
      "text/plain": [
       "<grafo.Graph_Advanced at 0x168aef7c740>"
      ]
     },
     "execution_count": 8,
     "metadata": {},
     "output_type": "execute_result"
    }
   ],
   "source": [
    "nodos_5"
   ]
  },
  {
   "cell_type": "code",
   "execution_count": 9,
   "id": "1fbea999-4fc6-495b-b2b4-264bea920266",
   "metadata": {},
   "outputs": [
    {
     "name": "stdout",
     "output_type": "stream",
     "text": [
      "{0: {3: 589, 4: 162}, 1: {2: 491, 4: 549}, 2: {1: 491, 3: 104}, 3: {0: 589, 2: 104}, 4: {0: 162, 1: 549}}\n"
     ]
    }
   ],
   "source": [
    "print(nodos_5)"
   ]
  },
  {
   "cell_type": "code",
   "execution_count": 10,
   "id": "3eb865a6-f5bf-4c54-93f9-fba120eb22e0",
   "metadata": {},
   "outputs": [
    {
     "data": {
      "text/plain": [
       "(589, [0, 3])"
      ]
     },
     "execution_count": 10,
     "metadata": {},
     "output_type": "execute_result"
    }
   ],
   "source": [
    "nodos_5.shortest_path(0,3)"
   ]
  },
  {
   "cell_type": "code",
   "execution_count": 11,
   "id": "05cd944d-14cc-4c84-8c8e-87249bee0111",
   "metadata": {},
   "outputs": [],
   "source": [
    "nodos_200 = generate_graph(200, complete=False, edges=4)"
   ]
  },
  {
   "cell_type": "code",
   "execution_count": 12,
   "id": "773f556d-842e-43ad-ae08-06a8f4b680e9",
   "metadata": {
    "scrolled": true
   },
   "outputs": [
    {
     "name": "stdout",
     "output_type": "stream",
     "text": [
      "{0: {95: 415, 163: 590, 184: 247, 151: 151}, 1: {190: 547, 84: 295, 129: 585, 170: 392}, 2: {45: 359, 151: 337, 66: 15, 140: 5}, 3: {147: 95, 96: 409, 64: 111, 124: 415}, 4: {145: 462, 173: 417, 97: 12, 78: 162}, 5: {82: 226, 165: 545, 198: 137, 15: 315}, 6: {48: 78, 46: 244, 83: 328, 54: 80}, 7: {51: 17, 37: 25, 121: 406, 197: 437}, 8: {32: 367, 70: 419, 170: 460, 20: 45}, 9: {185: 563, 137: 60, 16: 180, 176: 286}, 10: {194: 64, 116: 291, 112: 507, 34: 328}, 11: {169: 556, 98: 391, 41: 376, 106: 89}, 12: {160: 165, 112: 216, 51: 109, 72: 178}, 13: {169: 22, 141: 59, 60: 69, 31: 450}, 14: {133: 277, 177: 530, 73: 446, 59: 471}, 15: {5: 315, 75: 180, 78: 151, 161: 149}, 16: {9: 180, 41: 104, 39: 101, 75: 491}, 17: {112: 313, 97: 275, 141: 511, 134: 245}, 18: {194: 359, 152: 597, 182: 407, 36: 465}, 19: {156: 132, 178: 376, 132: 201, 71: 529}, 20: {8: 45, 182: 351, 198: 21, 197: 16}, 21: {119: 324, 140: 348, 186: 5, 44: 286}, 22: {191: 141, 114: 417, 163: 462, 106: 483}, 23: {37: 553, 152: 437, 158: 219, 166: 139}, 24: {112: 212, 70: 207, 44: 412, 43: 589}, 25: {50: 419, 140: 329, 141: 504, 105: 254}, 26: {97: 271, 192: 184, 62: 407, 181: 193}, 27: {196: 492}, 28: {153: 578, 154: 277, 195: 290, 177: 404}, 29: {50: 337, 37: 317, 64: 383, 58: 564}, 30: {160: 257, 199: 531, 101: 75, 105: 233}, 31: {13: 450, 90: 99, 167: 543, 80: 523}, 32: {8: 367, 40: 547, 72: 278, 199: 491}, 33: {100: 543, 192: 272, 85: 288, 174: 187}, 34: {10: 328, 177: 558, 171: 161, 41: 477}, 35: {65: 577, 109: 578, 193: 281, 116: 588}, 36: {18: 465, 57: 470, 195: 165, 158: 506}, 37: {7: 25, 23: 553, 29: 317, 111: 172}, 38: {143: 298, 189: 143, 64: 25, 106: 73}, 39: {16: 101, 194: 458, 90: 523, 187: 386}, 40: {32: 547, 47: 486, 109: 140, 149: 324}, 41: {11: 376, 16: 104, 34: 477, 129: 98}, 42: {70: 423, 98: 466, 77: 517, 122: 86}, 43: {24: 589, 101: 68, 110: 25, 143: 579}, 44: {24: 412, 183: 103, 150: 248, 21: 286}, 45: {2: 359, 137: 227, 152: 378, 126: 20}, 46: {6: 244, 199: 431, 144: 111, 184: 146}, 47: {40: 486, 167: 66, 50: 36, 53: 420}, 48: {6: 78, 192: 129, 119: 466, 152: 530}, 49: {108: 489, 119: 82, 111: 579, 156: 358}, 50: {25: 419, 29: 337, 47: 36, 98: 429}, 51: {7: 17, 12: 109, 172: 97, 56: 345}, 52: {161: 489, 160: 394, 177: 199, 114: 373}, 53: {47: 420, 162: 112, 63: 228, 137: 482}, 54: {6: 80, 130: 71, 101: 369, 179: 81}, 55: {92: 459, 57: 133, 100: 261, 110: 23}, 56: {51: 345, 195: 78, 166: 135, 69: 422}, 57: {36: 470, 55: 133, 65: 5, 144: 492}, 58: {95: 7, 29: 564, 139: 354, 164: 308}, 59: {14: 471, 72: 439, 165: 518, 106: 8}, 60: {13: 69, 116: 396, 93: 223, 67: 92}, 61: {118: 149, 95: 110, 99: 365, 62: 566}, 62: {26: 407, 155: 268, 109: 53, 61: 566}, 63: {53: 228, 92: 147, 146: 365}, 64: {3: 111, 29: 383, 38: 25, 175: 329}, 65: {35: 577, 57: 5, 183: 288, 144: 480}, 66: {2: 15, 102: 20, 153: 153, 174: 141}, 67: {60: 92, 156: 49, 124: 118, 86: 144}, 68: {192: 437, 98: 385, 100: 81, 73: 239}, 69: {56: 422, 124: 409, 161: 582, 125: 539}, 70: {8: 419, 24: 207, 42: 423, 129: 266}, 71: {19: 529, 114: 527, 119: 53, 83: 454}, 72: {12: 178, 32: 278, 59: 439, 84: 274}, 73: {14: 446, 68: 239, 125: 579, 83: 592}, 74: {196: 193, 102: 17, 107: 316, 157: 448}, 75: {15: 180, 16: 491, 91: 48, 136: 156}, 76: {108: 421, 179: 260, 181: 81, 132: 264}, 77: {115: 207, 161: 132, 42: 517, 182: 140}, 78: {4: 162, 15: 151, 187: 440, 143: 245}, 79: {186: 80, 95: 367, 120: 99}, 80: {31: 523, 103: 275, 104: 599, 128: 305}, 81: {108: 136, 89: 50, 174: 260}, 82: {5: 226, 150: 63, 105: 300, 133: 436}, 83: {6: 328, 73: 592, 113: 67, 71: 454}, 84: {1: 295, 72: 274, 197: 244, 168: 224}, 85: {33: 288, 88: 159, 188: 220, 175: 271}, 86: {110: 59, 67: 144, 144: 400, 101: 22}, 87: {91: 22, 136: 289, 107: 562, 125: 124}, 88: {85: 159, 97: 400, 125: 406}, 89: {81: 50}, 90: {31: 99, 39: 523, 139: 260, 91: 333}, 91: {75: 48, 87: 22, 90: 333, 133: 432}, 92: {55: 459, 189: 97, 63: 147, 142: 195}, 93: {60: 223, 135: 13, 128: 375, 141: 371}, 94: {190: 190, 96: 281, 191: 61, 148: 324}, 95: {0: 415, 58: 7, 61: 110, 79: 367}, 96: {3: 409, 94: 281, 186: 158, 172: 32}, 97: {4: 12, 17: 275, 26: 271, 88: 400}, 98: {11: 391, 42: 466, 50: 429, 68: 385}, 99: {61: 365, 191: 402, 109: 375}, 100: {33: 543, 68: 81, 55: 261, 181: 347}, 101: {30: 75, 43: 68, 54: 369, 86: 22}, 102: {66: 20, 74: 17, 149: 360}, 103: {80: 275, 135: 378}, 104: {80: 599}, 105: {25: 254, 30: 233, 82: 300, 128: 239}, 106: {11: 89, 22: 483, 38: 73, 59: 8}, 107: {74: 316, 87: 562, 191: 255, 113: 5}, 108: {49: 489, 76: 421, 81: 136, 127: 140}, 109: {35: 578, 40: 140, 62: 53, 99: 375}, 110: {43: 25, 86: 59, 55: 23, 151: 118}, 111: {37: 172, 49: 579, 183: 130, 155: 170}, 112: {10: 507, 12: 216, 17: 313, 24: 212}, 113: {83: 67, 107: 5, 181: 329, 157: 257}, 114: {22: 417, 52: 373, 71: 527, 184: 15}, 115: {77: 207, 147: 147, 143: 388, 180: 391}, 116: {10: 291, 35: 588, 60: 396, 140: 26}, 117: {149: 32, 186: 164}, 118: {61: 149, 184: 484, 167: 559, 164: 521}, 119: {21: 324, 48: 466, 49: 82, 71: 53}, 120: {147: 115, 79: 99, 137: 130}, 121: {7: 406, 175: 270}, 122: {42: 86, 176: 156}, 123: {}, 124: {3: 415, 67: 118, 69: 409, 156: 355}, 125: {69: 539, 73: 579, 88: 406, 87: 124}, 126: {45: 20, 175: 181, 153: 173, 164: 223}, 127: {108: 140, 172: 68, 189: 575}, 128: {93: 375, 105: 239, 80: 305, 133: 273}, 129: {1: 585, 41: 98, 70: 266, 173: 257}, 130: {54: 71, 131: 343, 164: 460}, 131: {130: 343, 155: 138, 159: 259, 188: 303}, 132: {19: 201, 76: 264, 136: 317}, 133: {14: 277, 91: 432, 128: 273, 82: 436}, 134: {17: 245}, 135: {93: 13, 103: 378}, 136: {75: 156, 87: 289, 132: 317, 159: 509}, 137: {9: 60, 45: 227, 120: 130, 53: 482}, 138: {}, 139: {58: 354, 90: 260, 147: 432, 194: 378}, 140: {2: 5, 21: 348, 25: 329, 116: 26}, 141: {13: 59, 17: 511, 25: 504, 93: 371}, 142: {92: 195, 165: 576, 154: 495, 198: 356}, 143: {38: 298, 43: 579, 78: 245, 115: 388}, 144: {46: 111, 57: 492, 65: 480, 86: 400}, 145: {4: 462, 158: 43}, 146: {63: 365, 193: 554}, 147: {3: 95, 115: 147, 120: 115, 139: 432}, 148: {94: 324, 172: 194}, 149: {40: 324, 102: 360, 117: 32, 179: 526}, 150: {44: 248, 82: 63, 166: 521, 159: 100}, 151: {0: 151, 2: 337, 110: 118, 174: 335}, 152: {18: 597, 23: 437, 45: 378, 48: 530}, 153: {28: 578, 66: 153, 126: 173, 197: 275}, 154: {28: 277, 142: 495, 166: 407}, 155: {62: 268, 111: 170, 131: 138, 171: 449}, 156: {19: 132, 49: 358, 67: 49, 124: 355}, 157: {113: 257, 74: 448, 180: 342, 182: 213}, 158: {23: 219, 36: 506, 145: 43}, 159: {136: 509, 150: 100, 131: 259}, 160: {12: 165, 30: 257, 52: 394, 196: 65}, 161: {15: 149, 52: 489, 69: 582, 77: 132}, 162: {53: 112, 195: 341, 196: 350}, 163: {0: 590, 22: 462, 168: 595}, 164: {58: 308, 118: 521, 126: 223, 130: 460}, 165: {5: 545, 59: 518, 142: 576, 167: 373}, 166: {23: 139, 56: 135, 150: 521, 154: 407}, 167: {31: 543, 47: 66, 118: 559, 165: 373}, 168: {84: 224, 163: 595}, 169: {11: 556, 13: 22, 199: 331}, 170: {1: 392, 8: 460, 179: 176, 187: 300}, 171: {34: 161, 155: 449}, 172: {51: 97, 96: 32, 148: 194, 127: 68}, 173: {4: 417, 129: 257, 187: 335}, 174: {33: 187, 66: 141, 151: 335, 81: 260}, 175: {64: 329, 85: 271, 121: 270, 126: 181}, 176: {9: 286, 122: 156}, 177: {14: 530, 28: 404, 34: 558, 52: 199}, 178: {19: 376}, 179: {54: 81, 76: 260, 170: 176, 149: 526}, 180: {157: 342, 115: 391}, 181: {26: 193, 76: 81, 100: 347, 113: 329}, 182: {18: 407, 20: 351, 77: 140, 157: 213}, 183: {44: 103, 65: 288, 111: 130, 193: 207}, 184: {0: 247, 46: 146, 114: 15, 118: 484}, 185: {9: 563, 188: 486, 190: 313}, 186: {21: 5, 79: 80, 96: 158, 117: 164}, 187: {39: 386, 78: 440, 173: 335, 170: 300}, 188: {85: 220, 131: 303, 185: 486}, 189: {38: 143, 92: 97, 127: 575}, 190: {1: 547, 94: 190, 185: 313}, 191: {22: 141, 94: 61, 99: 402, 107: 255}, 192: {26: 184, 33: 272, 48: 129, 68: 437}, 193: {35: 281, 183: 207, 146: 554}, 194: {10: 64, 18: 359, 39: 458, 139: 378}, 195: {28: 290, 36: 165, 56: 78, 162: 341}, 196: {27: 492, 74: 193, 160: 65, 162: 350}, 197: {7: 437, 20: 16, 84: 244, 153: 275}, 198: {5: 137, 20: 21, 142: 356}, 199: {30: 531, 32: 491, 46: 431, 169: 331}}\n"
     ]
    }
   ],
   "source": [
    "print(nodos_200)"
   ]
  },
  {
   "cell_type": "code",
   "execution_count": 13,
   "id": "4de927f0-5b06-45f4-81ec-402a56ebcb5c",
   "metadata": {},
   "outputs": [
    {
     "data": {
      "text/plain": [
       "(1021, [0, 151, 110, 86, 101, 30, 105, 82, 150])"
      ]
     },
     "execution_count": 13,
     "metadata": {},
     "output_type": "execute_result"
    }
   ],
   "source": [
    "nodos_200.shortest_path(0,150)"
   ]
  },
  {
   "cell_type": "code",
   "execution_count": 14,
   "id": "b456f072-f7c7-4072-8d66-f8b9d0029aa8",
   "metadata": {},
   "outputs": [
    {
     "name": "stdout",
     "output_type": "stream",
     "text": [
      "{0: {1: 97, 2: 173, 3: 581, 4: 230, 5: 88, 6: 388, 7: 102, 8: 70, 9: 231}, 1: {0: 97, 2: 564, 3: 414, 4: 113, 5: 329, 6: 544, 7: 335, 8: 451, 9: 479}, 2: {0: 173, 1: 564, 3: 540, 4: 219, 5: 570, 6: 421, 7: 123, 8: 307, 9: 329}, 3: {0: 581, 1: 414, 2: 540, 4: 200, 5: 93, 6: 305, 7: 431, 8: 264, 9: 385}, 4: {0: 230, 1: 113, 2: 219, 3: 200, 5: 247, 6: 218, 7: 402, 8: 74, 9: 492}, 5: {0: 88, 1: 329, 2: 570, 3: 93, 4: 247, 6: 480, 7: 151, 8: 569, 9: 260}, 6: {0: 388, 1: 544, 2: 421, 3: 305, 4: 218, 5: 480, 7: 103, 8: 137, 9: 443}, 7: {0: 102, 1: 335, 2: 123, 3: 431, 4: 402, 5: 151, 6: 103, 8: 447, 9: 113}, 8: {0: 70, 1: 451, 2: 307, 3: 264, 4: 74, 5: 569, 6: 137, 7: 447, 9: 557}, 9: {0: 231, 1: 479, 2: 329, 3: 385, 4: 492, 5: 260, 6: 443, 7: 113, 8: 557}}\n"
     ]
    }
   ],
   "source": [
    "nodos_10 = generate_graph(10, complete=True)\n",
    "print(nodos_10)"
   ]
  },
  {
   "cell_type": "code",
   "execution_count": null,
   "id": "f8d36d90-85c9-450b-8b67-ded57f4c2aec",
   "metadata": {},
   "outputs": [],
   "source": []
  }
 ],
 "metadata": {
  "kernelspec": {
   "display_name": "py312",
   "language": "python",
   "name": "py312"
  },
  "language_info": {
   "codemirror_mode": {
    "name": "ipython",
    "version": 3
   },
   "file_extension": ".py",
   "mimetype": "text/x-python",
   "name": "python",
   "nbconvert_exporter": "python",
   "pygments_lexer": "ipython3",
   "version": "3.12.6"
  }
 },
 "nbformat": 4,
 "nbformat_minor": 5
}
